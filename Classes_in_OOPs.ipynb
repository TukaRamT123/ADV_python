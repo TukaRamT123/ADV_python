{
 "cells": [
  {
   "cell_type": "markdown",
   "id": "04767547",
   "metadata": {},
   "source": [
    "# Class : Object Oriented Programming\n"
   ]
  },
  {
   "cell_type": "code",
   "execution_count": 1,
   "id": "6cb03a92",
   "metadata": {},
   "outputs": [
    {
     "name": "stdout",
     "output_type": "stream",
     "text": [
      "<class 'int'>\n"
     ]
    }
   ],
   "source": [
    "age = 23\n",
    "print(type(age))"
   ]
  },
  {
   "cell_type": "code",
   "execution_count": 2,
   "id": "f933e589",
   "metadata": {},
   "outputs": [
    {
     "name": "stdout",
     "output_type": "stream",
     "text": [
      "<class 'float'>\n"
     ]
    }
   ],
   "source": [
    "weight = 65.7\n",
    "print(type(weight))"
   ]
  },
  {
   "cell_type": "code",
   "execution_count": 3,
   "id": "e52bb2f6",
   "metadata": {},
   "outputs": [
    {
     "name": "stdout",
     "output_type": "stream",
     "text": [
      "<class 'str'>\n"
     ]
    }
   ],
   "source": [
    "email = 'example@etlhive.com'\n",
    "print(type(email))"
   ]
  },
  {
   "cell_type": "code",
   "execution_count": 4,
   "id": "54d57d60",
   "metadata": {
    "scrolled": false
   },
   "outputs": [
    {
     "name": "stdout",
     "output_type": "stream",
     "text": [
      "Help on class str in module builtins:\n",
      "\n",
      "class str(object)\n",
      " |  str(object='') -> str\n",
      " |  str(bytes_or_buffer[, encoding[, errors]]) -> str\n",
      " |  \n",
      " |  Create a new string object from the given object. If encoding or\n",
      " |  errors is specified, then the object must expose a data buffer\n",
      " |  that will be decoded using the given encoding and error handler.\n",
      " |  Otherwise, returns the result of object.__str__() (if defined)\n",
      " |  or repr(object).\n",
      " |  encoding defaults to sys.getdefaultencoding().\n",
      " |  errors defaults to 'strict'.\n",
      " |  \n",
      " |  Methods defined here:\n",
      " |  \n",
      " |  __add__(self, value, /)\n",
      " |      Return self+value.\n",
      " |  \n",
      " |  __contains__(self, key, /)\n",
      " |      Return key in self.\n",
      " |  \n",
      " |  __eq__(self, value, /)\n",
      " |      Return self==value.\n",
      " |  \n",
      " |  __format__(self, format_spec, /)\n",
      " |      Return a formatted version of the string as described by format_spec.\n",
      " |  \n",
      " |  __ge__(self, value, /)\n",
      " |      Return self>=value.\n",
      " |  \n",
      " |  __getattribute__(self, name, /)\n",
      " |      Return getattr(self, name).\n",
      " |  \n",
      " |  __getitem__(self, key, /)\n",
      " |      Return self[key].\n",
      " |  \n",
      " |  __getnewargs__(...)\n",
      " |  \n",
      " |  __gt__(self, value, /)\n",
      " |      Return self>value.\n",
      " |  \n",
      " |  __hash__(self, /)\n",
      " |      Return hash(self).\n",
      " |  \n",
      " |  __iter__(self, /)\n",
      " |      Implement iter(self).\n",
      " |  \n",
      " |  __le__(self, value, /)\n",
      " |      Return self<=value.\n",
      " |  \n",
      " |  __len__(self, /)\n",
      " |      Return len(self).\n",
      " |  \n",
      " |  __lt__(self, value, /)\n",
      " |      Return self<value.\n",
      " |  \n",
      " |  __mod__(self, value, /)\n",
      " |      Return self%value.\n",
      " |  \n",
      " |  __mul__(self, value, /)\n",
      " |      Return self*value.\n",
      " |  \n",
      " |  __ne__(self, value, /)\n",
      " |      Return self!=value.\n",
      " |  \n",
      " |  __repr__(self, /)\n",
      " |      Return repr(self).\n",
      " |  \n",
      " |  __rmod__(self, value, /)\n",
      " |      Return value%self.\n",
      " |  \n",
      " |  __rmul__(self, value, /)\n",
      " |      Return value*self.\n",
      " |  \n",
      " |  __sizeof__(self, /)\n",
      " |      Return the size of the string in memory, in bytes.\n",
      " |  \n",
      " |  __str__(self, /)\n",
      " |      Return str(self).\n",
      " |  \n",
      " |  capitalize(self, /)\n",
      " |      Return a capitalized version of the string.\n",
      " |      \n",
      " |      More specifically, make the first character have upper case and the rest lower\n",
      " |      case.\n",
      " |  \n",
      " |  casefold(self, /)\n",
      " |      Return a version of the string suitable for caseless comparisons.\n",
      " |  \n",
      " |  center(self, width, fillchar=' ', /)\n",
      " |      Return a centered string of length width.\n",
      " |      \n",
      " |      Padding is done using the specified fill character (default is a space).\n",
      " |  \n",
      " |  count(...)\n",
      " |      S.count(sub[, start[, end]]) -> int\n",
      " |      \n",
      " |      Return the number of non-overlapping occurrences of substring sub in\n",
      " |      string S[start:end].  Optional arguments start and end are\n",
      " |      interpreted as in slice notation.\n",
      " |  \n",
      " |  encode(self, /, encoding='utf-8', errors='strict')\n",
      " |      Encode the string using the codec registered for encoding.\n",
      " |      \n",
      " |      encoding\n",
      " |        The encoding in which to encode the string.\n",
      " |      errors\n",
      " |        The error handling scheme to use for encoding errors.\n",
      " |        The default is 'strict' meaning that encoding errors raise a\n",
      " |        UnicodeEncodeError.  Other possible values are 'ignore', 'replace' and\n",
      " |        'xmlcharrefreplace' as well as any other name registered with\n",
      " |        codecs.register_error that can handle UnicodeEncodeErrors.\n",
      " |  \n",
      " |  endswith(...)\n",
      " |      S.endswith(suffix[, start[, end]]) -> bool\n",
      " |      \n",
      " |      Return True if S ends with the specified suffix, False otherwise.\n",
      " |      With optional start, test S beginning at that position.\n",
      " |      With optional end, stop comparing S at that position.\n",
      " |      suffix can also be a tuple of strings to try.\n",
      " |  \n",
      " |  expandtabs(self, /, tabsize=8)\n",
      " |      Return a copy where all tab characters are expanded using spaces.\n",
      " |      \n",
      " |      If tabsize is not given, a tab size of 8 characters is assumed.\n",
      " |  \n",
      " |  find(...)\n",
      " |      S.find(sub[, start[, end]]) -> int\n",
      " |      \n",
      " |      Return the lowest index in S where substring sub is found,\n",
      " |      such that sub is contained within S[start:end].  Optional\n",
      " |      arguments start and end are interpreted as in slice notation.\n",
      " |      \n",
      " |      Return -1 on failure.\n",
      " |  \n",
      " |  format(...)\n",
      " |      S.format(*args, **kwargs) -> str\n",
      " |      \n",
      " |      Return a formatted version of S, using substitutions from args and kwargs.\n",
      " |      The substitutions are identified by braces ('{' and '}').\n",
      " |  \n",
      " |  format_map(...)\n",
      " |      S.format_map(mapping) -> str\n",
      " |      \n",
      " |      Return a formatted version of S, using substitutions from mapping.\n",
      " |      The substitutions are identified by braces ('{' and '}').\n",
      " |  \n",
      " |  index(...)\n",
      " |      S.index(sub[, start[, end]]) -> int\n",
      " |      \n",
      " |      Return the lowest index in S where substring sub is found,\n",
      " |      such that sub is contained within S[start:end].  Optional\n",
      " |      arguments start and end are interpreted as in slice notation.\n",
      " |      \n",
      " |      Raises ValueError when the substring is not found.\n",
      " |  \n",
      " |  isalnum(self, /)\n",
      " |      Return True if the string is an alpha-numeric string, False otherwise.\n",
      " |      \n",
      " |      A string is alpha-numeric if all characters in the string are alpha-numeric and\n",
      " |      there is at least one character in the string.\n",
      " |  \n",
      " |  isalpha(self, /)\n",
      " |      Return True if the string is an alphabetic string, False otherwise.\n",
      " |      \n",
      " |      A string is alphabetic if all characters in the string are alphabetic and there\n",
      " |      is at least one character in the string.\n",
      " |  \n",
      " |  isascii(self, /)\n",
      " |      Return True if all characters in the string are ASCII, False otherwise.\n",
      " |      \n",
      " |      ASCII characters have code points in the range U+0000-U+007F.\n",
      " |      Empty string is ASCII too.\n",
      " |  \n",
      " |  isdecimal(self, /)\n",
      " |      Return True if the string is a decimal string, False otherwise.\n",
      " |      \n",
      " |      A string is a decimal string if all characters in the string are decimal and\n",
      " |      there is at least one character in the string.\n",
      " |  \n",
      " |  isdigit(self, /)\n",
      " |      Return True if the string is a digit string, False otherwise.\n",
      " |      \n",
      " |      A string is a digit string if all characters in the string are digits and there\n",
      " |      is at least one character in the string.\n",
      " |  \n",
      " |  isidentifier(self, /)\n",
      " |      Return True if the string is a valid Python identifier, False otherwise.\n",
      " |      \n",
      " |      Call keyword.iskeyword(s) to test whether string s is a reserved identifier,\n",
      " |      such as \"def\" or \"class\".\n",
      " |  \n",
      " |  islower(self, /)\n",
      " |      Return True if the string is a lowercase string, False otherwise.\n",
      " |      \n",
      " |      A string is lowercase if all cased characters in the string are lowercase and\n",
      " |      there is at least one cased character in the string.\n",
      " |  \n",
      " |  isnumeric(self, /)\n",
      " |      Return True if the string is a numeric string, False otherwise.\n",
      " |      \n",
      " |      A string is numeric if all characters in the string are numeric and there is at\n",
      " |      least one character in the string.\n",
      " |  \n",
      " |  isprintable(self, /)\n",
      " |      Return True if the string is printable, False otherwise.\n",
      " |      \n",
      " |      A string is printable if all of its characters are considered printable in\n",
      " |      repr() or if it is empty.\n",
      " |  \n",
      " |  isspace(self, /)\n",
      " |      Return True if the string is a whitespace string, False otherwise.\n",
      " |      \n",
      " |      A string is whitespace if all characters in the string are whitespace and there\n",
      " |      is at least one character in the string.\n",
      " |  \n",
      " |  istitle(self, /)\n",
      " |      Return True if the string is a title-cased string, False otherwise.\n",
      " |      \n",
      " |      In a title-cased string, upper- and title-case characters may only\n",
      " |      follow uncased characters and lowercase characters only cased ones.\n",
      " |  \n",
      " |  isupper(self, /)\n",
      " |      Return True if the string is an uppercase string, False otherwise.\n",
      " |      \n",
      " |      A string is uppercase if all cased characters in the string are uppercase and\n",
      " |      there is at least one cased character in the string.\n",
      " |  \n",
      " |  join(self, iterable, /)\n",
      " |      Concatenate any number of strings.\n",
      " |      \n",
      " |      The string whose method is called is inserted in between each given string.\n",
      " |      The result is returned as a new string.\n",
      " |      \n",
      " |      Example: '.'.join(['ab', 'pq', 'rs']) -> 'ab.pq.rs'\n",
      " |  \n",
      " |  ljust(self, width, fillchar=' ', /)\n",
      " |      Return a left-justified string of length width.\n",
      " |      \n",
      " |      Padding is done using the specified fill character (default is a space).\n",
      " |  \n",
      " |  lower(self, /)\n",
      " |      Return a copy of the string converted to lowercase.\n",
      " |  \n",
      " |  lstrip(self, chars=None, /)\n",
      " |      Return a copy of the string with leading whitespace removed.\n",
      " |      \n",
      " |      If chars is given and not None, remove characters in chars instead.\n",
      " |  \n",
      " |  partition(self, sep, /)\n",
      " |      Partition the string into three parts using the given separator.\n",
      " |      \n",
      " |      This will search for the separator in the string.  If the separator is found,\n",
      " |      returns a 3-tuple containing the part before the separator, the separator\n",
      " |      itself, and the part after it.\n",
      " |      \n",
      " |      If the separator is not found, returns a 3-tuple containing the original string\n",
      " |      and two empty strings.\n",
      " |  \n",
      " |  removeprefix(self, prefix, /)\n",
      " |      Return a str with the given prefix string removed if present.\n",
      " |      \n",
      " |      If the string starts with the prefix string, return string[len(prefix):].\n",
      " |      Otherwise, return a copy of the original string.\n",
      " |  \n",
      " |  removesuffix(self, suffix, /)\n",
      " |      Return a str with the given suffix string removed if present.\n",
      " |      \n",
      " |      If the string ends with the suffix string and that suffix is not empty,\n",
      " |      return string[:-len(suffix)]. Otherwise, return a copy of the original\n",
      " |      string.\n",
      " |  \n",
      " |  replace(self, old, new, count=-1, /)\n",
      " |      Return a copy with all occurrences of substring old replaced by new.\n",
      " |      \n",
      " |        count\n",
      " |          Maximum number of occurrences to replace.\n",
      " |          -1 (the default value) means replace all occurrences.\n",
      " |      \n",
      " |      If the optional argument count is given, only the first count occurrences are\n",
      " |      replaced.\n",
      " |  \n",
      " |  rfind(...)\n",
      " |      S.rfind(sub[, start[, end]]) -> int\n",
      " |      \n",
      " |      Return the highest index in S where substring sub is found,\n",
      " |      such that sub is contained within S[start:end].  Optional\n",
      " |      arguments start and end are interpreted as in slice notation.\n",
      " |      \n",
      " |      Return -1 on failure.\n",
      " |  \n",
      " |  rindex(...)\n",
      " |      S.rindex(sub[, start[, end]]) -> int\n",
      " |      \n",
      " |      Return the highest index in S where substring sub is found,\n",
      " |      such that sub is contained within S[start:end].  Optional\n",
      " |      arguments start and end are interpreted as in slice notation.\n",
      " |      \n",
      " |      Raises ValueError when the substring is not found.\n",
      " |  \n",
      " |  rjust(self, width, fillchar=' ', /)\n",
      " |      Return a right-justified string of length width.\n",
      " |      \n",
      " |      Padding is done using the specified fill character (default is a space).\n",
      " |  \n",
      " |  rpartition(self, sep, /)\n",
      " |      Partition the string into three parts using the given separator.\n",
      " |      \n",
      " |      This will search for the separator in the string, starting at the end. If\n",
      " |      the separator is found, returns a 3-tuple containing the part before the\n",
      " |      separator, the separator itself, and the part after it.\n",
      " |      \n",
      " |      If the separator is not found, returns a 3-tuple containing two empty strings\n",
      " |      and the original string.\n",
      " |  \n",
      " |  rsplit(self, /, sep=None, maxsplit=-1)\n",
      " |      Return a list of the words in the string, using sep as the delimiter string.\n",
      " |      \n",
      " |        sep\n",
      " |          The delimiter according which to split the string.\n",
      " |          None (the default value) means split according to any whitespace,\n",
      " |          and discard empty strings from the result.\n",
      " |        maxsplit\n",
      " |          Maximum number of splits to do.\n",
      " |          -1 (the default value) means no limit.\n",
      " |      \n",
      " |      Splits are done starting at the end of the string and working to the front.\n",
      " |  \n",
      " |  rstrip(self, chars=None, /)\n",
      " |      Return a copy of the string with trailing whitespace removed.\n",
      " |      \n",
      " |      If chars is given and not None, remove characters in chars instead.\n",
      " |  \n",
      " |  split(self, /, sep=None, maxsplit=-1)\n",
      " |      Return a list of the words in the string, using sep as the delimiter string.\n",
      " |      \n",
      " |      sep\n",
      " |        The delimiter according which to split the string.\n",
      " |        None (the default value) means split according to any whitespace,\n",
      " |        and discard empty strings from the result.\n",
      " |      maxsplit\n",
      " |        Maximum number of splits to do.\n",
      " |        -1 (the default value) means no limit.\n",
      " |  \n",
      " |  splitlines(self, /, keepends=False)\n",
      " |      Return a list of the lines in the string, breaking at line boundaries.\n",
      " |      \n",
      " |      Line breaks are not included in the resulting list unless keepends is given and\n",
      " |      true.\n",
      " |  \n",
      " |  startswith(...)\n",
      " |      S.startswith(prefix[, start[, end]]) -> bool\n",
      " |      \n",
      " |      Return True if S starts with the specified prefix, False otherwise.\n",
      " |      With optional start, test S beginning at that position.\n",
      " |      With optional end, stop comparing S at that position.\n",
      " |      prefix can also be a tuple of strings to try.\n",
      " |  \n",
      " |  strip(self, chars=None, /)\n",
      " |      Return a copy of the string with leading and trailing whitespace removed.\n",
      " |      \n",
      " |      If chars is given and not None, remove characters in chars instead.\n",
      " |  \n",
      " |  swapcase(self, /)\n",
      " |      Convert uppercase characters to lowercase and lowercase characters to uppercase.\n",
      " |  \n",
      " |  title(self, /)\n",
      " |      Return a version of the string where each word is titlecased.\n",
      " |      \n",
      " |      More specifically, words start with uppercased characters and all remaining\n",
      " |      cased characters have lower case.\n",
      " |  \n",
      " |  translate(self, table, /)\n",
      " |      Replace each character in the string using the given translation table.\n",
      " |      \n",
      " |        table\n",
      " |          Translation table, which must be a mapping of Unicode ordinals to\n",
      " |          Unicode ordinals, strings, or None.\n",
      " |      \n",
      " |      The table must implement lookup/indexing via __getitem__, for instance a\n",
      " |      dictionary or list.  If this operation raises LookupError, the character is\n",
      " |      left untouched.  Characters mapped to None are deleted.\n",
      " |  \n",
      " |  upper(self, /)\n",
      " |      Return a copy of the string converted to uppercase.\n",
      " |  \n",
      " |  zfill(self, width, /)\n",
      " |      Pad a numeric string with zeros on the left, to fill a field of the given width.\n",
      " |      \n",
      " |      The string is never truncated.\n",
      " |  \n",
      " |  ----------------------------------------------------------------------\n",
      " |  Static methods defined here:\n",
      " |  \n",
      " |  __new__(*args, **kwargs) from builtins.type\n",
      " |      Create and return a new object.  See help(type) for accurate signature.\n",
      " |  \n",
      " |  maketrans(...)\n",
      " |      Return a translation table usable for str.translate().\n",
      " |      \n",
      " |      If there is only one argument, it must be a dictionary mapping Unicode\n",
      " |      ordinals (integers) or characters to Unicode ordinals, strings or None.\n",
      " |      Character keys will be then converted to ordinals.\n",
      " |      If there are two arguments, they must be strings of equal length, and\n",
      " |      in the resulting dictionary, each character in x will be mapped to the\n",
      " |      character at the same position in y. If there is a third argument, it\n",
      " |      must be a string, whose characters will be mapped to None in the result.\n",
      "\n"
     ]
    }
   ],
   "source": [
    "help(str)"
   ]
  },
  {
   "cell_type": "code",
   "execution_count": 5,
   "id": "4b691bfe",
   "metadata": {},
   "outputs": [],
   "source": [
    "class Person:\n",
    "    \n",
    "    def __init__(self, name, age, gender, occupation):\n",
    "        self.name = name\n",
    "        self.age = age\n",
    "        self.gender = gender\n",
    "        self.occupation = occupation\n",
    "        \n",
    "    def introduce(self):\n",
    "        print(f'Hi There my name is {self.name}')\n",
    "        print(f'I am currenty {self.age} years')\n",
    "        print(f'I am a {self.gender}')\n",
    "        print(f'I work as a {self.occupation}')\n",
    "        \n",
    "    def tell_current_salary(self,sal):\n",
    "        print(f'Hi I am {self.name}')\n",
    "        print(f'My current package is {sal}')\n",
    "        \n",
    "    def update_age(self,new_age):\n",
    "        self.age = new_age\n",
    "        print(f'Age Successfully updated to {new_age} for {self.name}')\n"
   ]
  },
  {
   "cell_type": "code",
   "execution_count": 6,
   "id": "9bdbf9e2",
   "metadata": {},
   "outputs": [],
   "source": [
    "def show_dataframe(lst):\n",
    "        import pandas as pd\n",
    "        names = []\n",
    "        ages = []\n",
    "        genders = []\n",
    "        occupations = []\n",
    "        for i in lst:\n",
    "            names.append(i.name)\n",
    "            ages.append(i.age)\n",
    "            genders.append(i.gender)\n",
    "            occupations.append(i.occupation)\n",
    "        dct = {'Name':names,\n",
    "               'Age':ages,\n",
    "               'Gender':genders,\n",
    "               'Occupation':occupations}\n",
    "        df = pd.DataFrame(dct)\n",
    "        return df"
   ]
  },
  {
   "cell_type": "code",
   "execution_count": 7,
   "id": "b97a161a",
   "metadata": {},
   "outputs": [],
   "source": [
    "p1 = Person('Tukaram',23,'Male','Data Science learner')"
   ]
  },
  {
   "cell_type": "code",
   "execution_count": 8,
   "id": "243c77b6",
   "metadata": {},
   "outputs": [
    {
     "name": "stdout",
     "output_type": "stream",
     "text": [
      "<class '__main__.Person'>\n"
     ]
    }
   ],
   "source": [
    "print(type(p1))"
   ]
  },
  {
   "cell_type": "code",
   "execution_count": 9,
   "id": "996b54e1",
   "metadata": {},
   "outputs": [
    {
     "data": {
      "text/plain": [
       "'Tukaram'"
      ]
     },
     "execution_count": 9,
     "metadata": {},
     "output_type": "execute_result"
    }
   ],
   "source": [
    "p1.name"
   ]
  },
  {
   "cell_type": "code",
   "execution_count": 10,
   "id": "3c752df9",
   "metadata": {},
   "outputs": [
    {
     "data": {
      "text/plain": [
       "23"
      ]
     },
     "execution_count": 10,
     "metadata": {},
     "output_type": "execute_result"
    }
   ],
   "source": [
    "p1.age"
   ]
  },
  {
   "cell_type": "code",
   "execution_count": 11,
   "id": "43840456",
   "metadata": {},
   "outputs": [
    {
     "data": {
      "text/plain": [
       "'Male'"
      ]
     },
     "execution_count": 11,
     "metadata": {},
     "output_type": "execute_result"
    }
   ],
   "source": [
    "p1.gender"
   ]
  },
  {
   "cell_type": "code",
   "execution_count": 12,
   "id": "8772b7a9",
   "metadata": {},
   "outputs": [
    {
     "data": {
      "text/plain": [
       "'Data Science learner'"
      ]
     },
     "execution_count": 12,
     "metadata": {},
     "output_type": "execute_result"
    }
   ],
   "source": [
    "p1.occupation"
   ]
  },
  {
   "cell_type": "code",
   "execution_count": 13,
   "id": "cee12bde",
   "metadata": {},
   "outputs": [
    {
     "name": "stdout",
     "output_type": "stream",
     "text": [
      "Hi There my name is Tukaram\n",
      "I am currenty 23 years\n",
      "I am a Male\n",
      "I work as a Data Science learner\n"
     ]
    }
   ],
   "source": [
    "p1.introduce()"
   ]
  },
  {
   "cell_type": "code",
   "execution_count": 14,
   "id": "d7b4095b",
   "metadata": {},
   "outputs": [],
   "source": [
    "p2 = Person('Vaishanvi',25,'Female','HR')\n",
    "p3 = Person('Mayank',34,'Male','Project Manager')\n",
    "p4 = Person('Aditi',40,'Female','Team Lead')"
   ]
  },
  {
   "cell_type": "code",
   "execution_count": 15,
   "id": "54d2a763",
   "metadata": {},
   "outputs": [],
   "source": [
    "p = [p1, p2, p3, p4]"
   ]
  },
  {
   "cell_type": "code",
   "execution_count": 16,
   "id": "1361fecc",
   "metadata": {},
   "outputs": [
    {
     "name": "stdout",
     "output_type": "stream",
     "text": [
      "Hi There my name is Tukaram\n",
      "I am currenty 23 years\n",
      "I am a Male\n",
      "I work as a Data Science learner\n",
      "\n",
      "=====================\n",
      "\n",
      "Hi There my name is Vaishanvi\n",
      "I am currenty 25 years\n",
      "I am a Female\n",
      "I work as a HR\n",
      "\n",
      "=====================\n",
      "\n",
      "Hi There my name is Mayank\n",
      "I am currenty 34 years\n",
      "I am a Male\n",
      "I work as a Project Manager\n",
      "\n",
      "=====================\n",
      "\n",
      "Hi There my name is Aditi\n",
      "I am currenty 40 years\n",
      "I am a Female\n",
      "I work as a Team Lead\n",
      "\n",
      "=====================\n",
      "\n"
     ]
    }
   ],
   "source": [
    "for i in p:\n",
    "    i.introduce()\n",
    "    print('\\n=====================\\n')"
   ]
  },
  {
   "cell_type": "code",
   "execution_count": 18,
   "id": "4235178f",
   "metadata": {},
   "outputs": [
    {
     "data": {
      "text/html": [
       "<div>\n",
       "<style scoped>\n",
       "    .dataframe tbody tr th:only-of-type {\n",
       "        vertical-align: middle;\n",
       "    }\n",
       "\n",
       "    .dataframe tbody tr th {\n",
       "        vertical-align: top;\n",
       "    }\n",
       "\n",
       "    .dataframe thead th {\n",
       "        text-align: right;\n",
       "    }\n",
       "</style>\n",
       "<table border=\"1\" class=\"dataframe\">\n",
       "  <thead>\n",
       "    <tr style=\"text-align: right;\">\n",
       "      <th></th>\n",
       "      <th>Name</th>\n",
       "      <th>Age</th>\n",
       "      <th>Gender</th>\n",
       "      <th>Occupation</th>\n",
       "    </tr>\n",
       "  </thead>\n",
       "  <tbody>\n",
       "    <tr>\n",
       "      <th>0</th>\n",
       "      <td>Tukaram</td>\n",
       "      <td>23</td>\n",
       "      <td>Male</td>\n",
       "      <td>Data Science learner</td>\n",
       "    </tr>\n",
       "    <tr>\n",
       "      <th>1</th>\n",
       "      <td>Vaishanvi</td>\n",
       "      <td>25</td>\n",
       "      <td>Female</td>\n",
       "      <td>HR</td>\n",
       "    </tr>\n",
       "    <tr>\n",
       "      <th>2</th>\n",
       "      <td>Mayank</td>\n",
       "      <td>34</td>\n",
       "      <td>Male</td>\n",
       "      <td>Project Manager</td>\n",
       "    </tr>\n",
       "    <tr>\n",
       "      <th>3</th>\n",
       "      <td>Aditi</td>\n",
       "      <td>40</td>\n",
       "      <td>Female</td>\n",
       "      <td>Team Lead</td>\n",
       "    </tr>\n",
       "  </tbody>\n",
       "</table>\n",
       "</div>"
      ],
      "text/plain": [
       "        Name  Age  Gender            Occupation\n",
       "0    Tukaram   23    Male  Data Science learner\n",
       "1  Vaishanvi   25  Female                    HR\n",
       "2     Mayank   34    Male       Project Manager\n",
       "3      Aditi   40  Female             Team Lead"
      ]
     },
     "execution_count": 18,
     "metadata": {},
     "output_type": "execute_result"
    }
   ],
   "source": [
    "import pandas as pd\n",
    "names = []\n",
    "ages = []\n",
    "genders = []\n",
    "occupations = []\n",
    "\n",
    "for i in p:\n",
    "    names.append(i.name)\n",
    "    ages.append(i.age)\n",
    "    genders.append(i.gender)\n",
    "    occupations.append(i.occupation)\n",
    "    \n",
    "dct = {'Name':names,\n",
    "       'Age':ages,\n",
    "       'Gender':genders,\n",
    "       'Occupation':occupations}\n",
    "\n",
    "df = pd.DataFrame(dct)\n",
    "df"
   ]
  },
  {
   "cell_type": "code",
   "execution_count": 19,
   "id": "8c472478",
   "metadata": {},
   "outputs": [
    {
     "name": "stdout",
     "output_type": "stream",
     "text": [
      "Hi I am Tukaram\n",
      "My current package is 10000\n"
     ]
    }
   ],
   "source": [
    "p1.tell_current_salary(10000)"
   ]
  },
  {
   "cell_type": "code",
   "execution_count": 20,
   "id": "b45b159f",
   "metadata": {},
   "outputs": [
    {
     "data": {
      "text/plain": [
       "<bound method Person.update_age of <__main__.Person object at 0x000002889796ACA0>>"
      ]
     },
     "execution_count": 20,
     "metadata": {},
     "output_type": "execute_result"
    }
   ],
   "source": [
    "p1.update_age"
   ]
  },
  {
   "cell_type": "code",
   "execution_count": 21,
   "id": "2a09de01",
   "metadata": {},
   "outputs": [
    {
     "name": "stdout",
     "output_type": "stream",
     "text": [
      "Hi There my name is Tukaram\n",
      "I am currenty 23 years\n",
      "I am a Male\n",
      "I work as a Data Science learner\n"
     ]
    }
   ],
   "source": [
    "p1.introduce()"
   ]
  },
  {
   "cell_type": "code",
   "execution_count": 22,
   "id": "c7bc3244",
   "metadata": {},
   "outputs": [
    {
     "data": {
      "text/plain": [
       "23"
      ]
     },
     "execution_count": 22,
     "metadata": {},
     "output_type": "execute_result"
    }
   ],
   "source": [
    "p1.age"
   ]
  },
  {
   "cell_type": "code",
   "execution_count": 23,
   "id": "7094e02e",
   "metadata": {},
   "outputs": [
    {
     "data": {
      "text/html": [
       "<div>\n",
       "<style scoped>\n",
       "    .dataframe tbody tr th:only-of-type {\n",
       "        vertical-align: middle;\n",
       "    }\n",
       "\n",
       "    .dataframe tbody tr th {\n",
       "        vertical-align: top;\n",
       "    }\n",
       "\n",
       "    .dataframe thead th {\n",
       "        text-align: right;\n",
       "    }\n",
       "</style>\n",
       "<table border=\"1\" class=\"dataframe\">\n",
       "  <thead>\n",
       "    <tr style=\"text-align: right;\">\n",
       "      <th></th>\n",
       "      <th>Name</th>\n",
       "      <th>Age</th>\n",
       "      <th>Gender</th>\n",
       "      <th>Occupation</th>\n",
       "    </tr>\n",
       "  </thead>\n",
       "  <tbody>\n",
       "    <tr>\n",
       "      <th>0</th>\n",
       "      <td>Tukaram</td>\n",
       "      <td>23</td>\n",
       "      <td>Male</td>\n",
       "      <td>Data Science learner</td>\n",
       "    </tr>\n",
       "    <tr>\n",
       "      <th>1</th>\n",
       "      <td>Vaishanvi</td>\n",
       "      <td>25</td>\n",
       "      <td>Female</td>\n",
       "      <td>HR</td>\n",
       "    </tr>\n",
       "    <tr>\n",
       "      <th>2</th>\n",
       "      <td>Mayank</td>\n",
       "      <td>34</td>\n",
       "      <td>Male</td>\n",
       "      <td>Project Manager</td>\n",
       "    </tr>\n",
       "    <tr>\n",
       "      <th>3</th>\n",
       "      <td>Aditi</td>\n",
       "      <td>40</td>\n",
       "      <td>Female</td>\n",
       "      <td>Team Lead</td>\n",
       "    </tr>\n",
       "  </tbody>\n",
       "</table>\n",
       "</div>"
      ],
      "text/plain": [
       "        Name  Age  Gender            Occupation\n",
       "0    Tukaram   23    Male  Data Science learner\n",
       "1  Vaishanvi   25  Female                    HR\n",
       "2     Mayank   34    Male       Project Manager\n",
       "3      Aditi   40  Female             Team Lead"
      ]
     },
     "execution_count": 23,
     "metadata": {},
     "output_type": "execute_result"
    }
   ],
   "source": [
    "show_dataframe([p1,p2,p3,p4])"
   ]
  },
  {
   "cell_type": "markdown",
   "id": "bf9f77e2",
   "metadata": {},
   "source": [
    "# Calling Persons class from custom def\\"
   ]
  },
  {
   "cell_type": "markdown",
   "id": "2416a154",
   "metadata": {},
   "source": [
    "Restart and run all cells\n"
   ]
  },
  {
   "cell_type": "code",
   "execution_count": 24,
   "id": "502e1bc7",
   "metadata": {},
   "outputs": [],
   "source": [
    "from PM77 import Person1"
   ]
  },
  {
   "cell_type": "code",
   "execution_count": 25,
   "id": "774db319",
   "metadata": {},
   "outputs": [],
   "source": [
    "pr1 = Person1('Amita',28,'Female','Tester')"
   ]
  },
  {
   "cell_type": "code",
   "execution_count": 26,
   "id": "7acef132",
   "metadata": {},
   "outputs": [
    {
     "name": "stdout",
     "output_type": "stream",
     "text": [
      "<class 'PM77.Person1'>\n"
     ]
    }
   ],
   "source": [
    "print(type(pr1))"
   ]
  },
  {
   "cell_type": "code",
   "execution_count": 27,
   "id": "bf29edc4",
   "metadata": {},
   "outputs": [
    {
     "data": {
      "text/plain": [
       "'Amita'"
      ]
     },
     "execution_count": 27,
     "metadata": {},
     "output_type": "execute_result"
    }
   ],
   "source": [
    "pr1.name"
   ]
  },
  {
   "cell_type": "code",
   "execution_count": 28,
   "id": "2bb6cc82",
   "metadata": {},
   "outputs": [
    {
     "data": {
      "text/plain": [
       "28"
      ]
     },
     "execution_count": 28,
     "metadata": {},
     "output_type": "execute_result"
    }
   ],
   "source": [
    "pr1.age"
   ]
  },
  {
   "cell_type": "code",
   "execution_count": 29,
   "id": "79c1c893",
   "metadata": {},
   "outputs": [
    {
     "data": {
      "text/plain": [
       "28"
      ]
     },
     "execution_count": 29,
     "metadata": {},
     "output_type": "execute_result"
    }
   ],
   "source": [
    "pr1.age"
   ]
  },
  {
   "cell_type": "code",
   "execution_count": 30,
   "id": "a2823f3d",
   "metadata": {},
   "outputs": [
    {
     "data": {
      "text/plain": [
       "'Tester'"
      ]
     },
     "execution_count": 30,
     "metadata": {},
     "output_type": "execute_result"
    }
   ],
   "source": [
    "pr1.occupation"
   ]
  },
  {
   "cell_type": "code",
   "execution_count": 31,
   "id": "ef7da859",
   "metadata": {},
   "outputs": [
    {
     "name": "stdout",
     "output_type": "stream",
     "text": [
      "Hi There my name is Amita\n",
      "I am currenty 28 years\n",
      "I am a Female\n",
      "I work as a Tester\n"
     ]
    }
   ],
   "source": [
    "pr1.introduce()"
   ]
  },
  {
   "cell_type": "code",
   "execution_count": 32,
   "id": "93e0a901",
   "metadata": {},
   "outputs": [],
   "source": [
    "class Account:\n",
    "    \n",
    "    def __init__(self, ac_no, name, bal):\n",
    "        self.ac_no = ac_no\n",
    "        self.name = name\n",
    "        self.bal = bal\n",
    "    \n",
    "    def deposit(self, add_bal):\n",
    "        self.bal = self.bal + add_bal\n",
    "        print(f'Hi {self.name}')\n",
    "        print(f'{add_bal} INR got credited into account : {self.ac_no}')\n",
    "        print(f'Current balance is {self.bal} INR')\n",
    "        \n",
    "    def withdraw(self, rem_bal):\n",
    "        if self.bal>=rem_bal:\n",
    "            self.bal = self.bal - rem_bal\n",
    "            print(f'Hi {self.name}')\n",
    "            print(f'{rem_bal} INR got Withdrawn from your account : {self.ac_no}')\n",
    "            print(f'Current balance is {self.bal} INR')\n",
    "        else:\n",
    "            print(f'Insufficient balance in account : {self.ac_no}')\n",
    "            print(f'Current balance is {self.bal} INR')\n",
    "        \n",
    "    def transfer(self, tr_bal, ac2):\n",
    "        if self.bal>=tr_bal:\n",
    "            self.bal = self.bal - tr_bal\n",
    "            ac2.bal = ac2.bal + tr_bal\n",
    "            print(f'Hi {self.name}')\n",
    "            print(f'{tr_bal} INR got transfererred from account {self.ac_no} to {ac2.ac_no}')\n",
    "            print(f'Current Balance is {self.bal} INR')\n",
    "        else:\n",
    "            print(f'Insufficient Balance in account {self.ac_no}')\n",
    "            print(f'Current balance is {self.bal} INR')"
   ]
  },
  {
   "cell_type": "code",
   "execution_count": 33,
   "id": "ece6bd9a",
   "metadata": {},
   "outputs": [],
   "source": [
    "a1 = Account(101,'Tukaram Tanpure',5000)"
   ]
  },
  {
   "cell_type": "code",
   "execution_count": 34,
   "id": "1d91d5a7",
   "metadata": {},
   "outputs": [
    {
     "name": "stdout",
     "output_type": "stream",
     "text": [
      "<class '__main__.Account'>\n"
     ]
    }
   ],
   "source": [
    "print(type(a1))"
   ]
  },
  {
   "cell_type": "code",
   "execution_count": 35,
   "id": "74b01471",
   "metadata": {},
   "outputs": [
    {
     "data": {
      "text/plain": [
       "101"
      ]
     },
     "execution_count": 35,
     "metadata": {},
     "output_type": "execute_result"
    }
   ],
   "source": [
    "a1.ac_no"
   ]
  },
  {
   "cell_type": "code",
   "execution_count": 36,
   "id": "1730774c",
   "metadata": {},
   "outputs": [
    {
     "data": {
      "text/plain": [
       "'Tukaram Tanpure'"
      ]
     },
     "execution_count": 36,
     "metadata": {},
     "output_type": "execute_result"
    }
   ],
   "source": [
    "a1.name"
   ]
  },
  {
   "cell_type": "code",
   "execution_count": 37,
   "id": "dbe91529",
   "metadata": {},
   "outputs": [
    {
     "data": {
      "text/plain": [
       "5000"
      ]
     },
     "execution_count": 37,
     "metadata": {},
     "output_type": "execute_result"
    }
   ],
   "source": [
    "a1.bal"
   ]
  },
  {
   "cell_type": "code",
   "execution_count": 38,
   "id": "d2edee2b",
   "metadata": {},
   "outputs": [
    {
     "data": {
      "text/plain": [
       "<bound method Account.deposit of <__main__.Account object at 0x00000288A9225250>>"
      ]
     },
     "execution_count": 38,
     "metadata": {},
     "output_type": "execute_result"
    }
   ],
   "source": [
    "a1.deposit"
   ]
  },
  {
   "cell_type": "code",
   "execution_count": 39,
   "id": "533d8d6d",
   "metadata": {},
   "outputs": [
    {
     "name": "stdout",
     "output_type": "stream",
     "text": [
      "Hi Tukaram Tanpure\n",
      "2000 INR got credited into account : 101\n",
      "Current balance is 7000 INR\n"
     ]
    }
   ],
   "source": [
    "a1.deposit(2000)"
   ]
  },
  {
   "cell_type": "code",
   "execution_count": 40,
   "id": "727fc6c8",
   "metadata": {},
   "outputs": [
    {
     "data": {
      "text/plain": [
       "7000"
      ]
     },
     "execution_count": 40,
     "metadata": {},
     "output_type": "execute_result"
    }
   ],
   "source": [
    "a1.bal"
   ]
  },
  {
   "cell_type": "code",
   "execution_count": 41,
   "id": "8225f5b9",
   "metadata": {},
   "outputs": [
    {
     "name": "stdout",
     "output_type": "stream",
     "text": [
      "Hi Tukaram Tanpure\n",
      "1000 INR got Withdrawn from your account : 101\n",
      "Current balance is 6000 INR\n"
     ]
    }
   ],
   "source": [
    "a1.withdraw(1000)"
   ]
  },
  {
   "cell_type": "code",
   "execution_count": 42,
   "id": "afa0ba63",
   "metadata": {},
   "outputs": [],
   "source": [
    "a2 = Account(205,'Aditi More',20000)"
   ]
  },
  {
   "cell_type": "code",
   "execution_count": 43,
   "id": "02945090",
   "metadata": {},
   "outputs": [
    {
     "data": {
      "text/plain": [
       "205"
      ]
     },
     "execution_count": 43,
     "metadata": {},
     "output_type": "execute_result"
    }
   ],
   "source": [
    "a2.ac_no"
   ]
  },
  {
   "cell_type": "code",
   "execution_count": 44,
   "id": "643bd71e",
   "metadata": {},
   "outputs": [
    {
     "data": {
      "text/plain": [
       "'Aditi More'"
      ]
     },
     "execution_count": 44,
     "metadata": {},
     "output_type": "execute_result"
    }
   ],
   "source": [
    "a2.name"
   ]
  },
  {
   "cell_type": "code",
   "execution_count": 45,
   "id": "d49c3add",
   "metadata": {},
   "outputs": [
    {
     "data": {
      "text/plain": [
       "20000"
      ]
     },
     "execution_count": 45,
     "metadata": {},
     "output_type": "execute_result"
    }
   ],
   "source": [
    "a2.bal"
   ]
  },
  {
   "cell_type": "code",
   "execution_count": 46,
   "id": "bf0221b6",
   "metadata": {},
   "outputs": [
    {
     "name": "stdout",
     "output_type": "stream",
     "text": [
      "Hi Aditi More\n",
      "1000 INR got transfererred from account 205 to 205\n",
      "Current Balance is 20000 INR\n"
     ]
    }
   ],
   "source": [
    "a2.transfer(1000,a2)"
   ]
  },
  {
   "cell_type": "code",
   "execution_count": 47,
   "id": "cd9ab83b",
   "metadata": {},
   "outputs": [
    {
     "name": "stdout",
     "output_type": "stream",
     "text": [
      "Hi Aditi More\n",
      "2000 INR got transfererred from account 205 to 205\n",
      "Current Balance is 20000 INR\n"
     ]
    }
   ],
   "source": [
    "a2.transfer(2000,a2)"
   ]
  },
  {
   "cell_type": "markdown",
   "id": "0ce89a36",
   "metadata": {},
   "source": [
    "# Classes in object oriented programing Assignment "
   ]
  },
  {
   "attachments": {
    "download%20%2816%29.png": {
     "image/png": "[encoded data removed]"
    }
   },
   "cell_type": "markdown",
   "id": "dd20ef0c",
   "metadata": {},
   "source": [
    "![download%20%2816%29.png](attachment:download%20%2816%29.png)"
   ]
  },
  {
   "cell_type": "code",
   "execution_count": 48,
   "id": "d1e16abd",
   "metadata": {},
   "outputs": [],
   "source": [
    "class Triangle:\n",
    "    \n",
    "    def __init__(self, side1, side2, side3):\n",
    "        self.side1 = side1\n",
    "        self.side2 = side2\n",
    "        self.side3 = side3\n",
    "        \n",
    "    def isTriangle(self):\n",
    "        a = self.side1\n",
    "        b = self.side2\n",
    "        c = self.side3\n",
    "        if (a+b)>c and (b+c)>a and (c+a)>b:\n",
    "            s = True\n",
    "        else:\n",
    "            s = False\n",
    "        return s\n",
    "    \n",
    "    def Perimeter(self):\n",
    "        if self.isTriangle()==True:\n",
    "            p = self.side1 + self.side2 + self.side3\n",
    "        else:\n",
    "            print(f'The given sides {self.side1}, {self.side2} and {self.side3} DO NOT form Triangle')\n",
    "            p = None\n",
    "        return p\n",
    "    \n",
    "    def Area(self):\n",
    "        a = self.side1\n",
    "        b = self.side2\n",
    "        c = self.side3\n",
    "        if self.isTriangle()==True:\n",
    "            s = (a+b+c)/2\n",
    "            ar = (s*(s-a)*(s-b)*(s-c))**(1/2)\n",
    "        else:\n",
    "            ar = None\n",
    "            print(f'The given sides {a}, {b} and {c} DO NOT form a Triangle') \n",
    "        return ar"
   ]
  },
  {
   "cell_type": "code",
   "execution_count": 49,
   "id": "0f70b2b9",
   "metadata": {},
   "outputs": [],
   "source": [
    "t1 = Triangle(3,4,5)"
   ]
  },
  {
   "cell_type": "code",
   "execution_count": 50,
   "id": "01fbbc48",
   "metadata": {},
   "outputs": [
    {
     "name": "stdout",
     "output_type": "stream",
     "text": [
      "<class '__main__.Triangle'>\n"
     ]
    }
   ],
   "source": [
    "print(type(t1))"
   ]
  },
  {
   "cell_type": "code",
   "execution_count": 51,
   "id": "95430e4c",
   "metadata": {},
   "outputs": [
    {
     "data": {
      "text/plain": [
       "True"
      ]
     },
     "execution_count": 51,
     "metadata": {},
     "output_type": "execute_result"
    }
   ],
   "source": [
    "t1.isTriangle()"
   ]
  },
  {
   "cell_type": "code",
   "execution_count": 52,
   "id": "52b04115",
   "metadata": {},
   "outputs": [
    {
     "data": {
      "text/plain": [
       "True"
      ]
     },
     "execution_count": 52,
     "metadata": {},
     "output_type": "execute_result"
    }
   ],
   "source": [
    "p1 = t1.isTriangle()\n",
    "p1"
   ]
  },
  {
   "cell_type": "code",
   "execution_count": 53,
   "id": "abcdd658",
   "metadata": {},
   "outputs": [
    {
     "data": {
      "text/plain": [
       "6.0"
      ]
     },
     "execution_count": 53,
     "metadata": {},
     "output_type": "execute_result"
    }
   ],
   "source": [
    "a1 = t1.Area()\n",
    "a1"
   ]
  },
  {
   "cell_type": "code",
   "execution_count": 54,
   "id": "35e287ab",
   "metadata": {},
   "outputs": [
    {
     "data": {
      "text/plain": [
       "False"
      ]
     },
     "execution_count": 54,
     "metadata": {},
     "output_type": "execute_result"
    }
   ],
   "source": [
    "t2 = Triangle(1,2,3)\n",
    "t2.isTriangle()"
   ]
  },
  {
   "cell_type": "code",
   "execution_count": 57,
   "id": "52dbc330",
   "metadata": {},
   "outputs": [
    {
     "name": "stdout",
     "output_type": "stream",
     "text": [
      "The given sides 1, 2 and 3 DO NOT form Triangle\n"
     ]
    }
   ],
   "source": [
    "t2.Perimeter()"
   ]
  },
  {
   "cell_type": "code",
   "execution_count": 58,
   "id": "dabf0dd4",
   "metadata": {},
   "outputs": [
    {
     "name": "stdout",
     "output_type": "stream",
     "text": [
      "The given sides 1, 2 and 3 DO NOT form a Triangle\n"
     ]
    }
   ],
   "source": [
    "t2.Area()"
   ]
  },
  {
   "cell_type": "markdown",
   "id": "4ae1b660",
   "metadata": {},
   "source": [
    "# Give status for multiple triangles\n"
   ]
  },
  {
   "cell_type": "code",
   "execution_count": 59,
   "id": "9a1a2144",
   "metadata": {},
   "outputs": [],
   "source": [
    "tr1 = Triangle(12,13,14)\n",
    "tr2 = Triangle(3,4,5)\n",
    "tr3 = Triangle(1,2,3)\n",
    "tr4 = Triangle(4,5,6)"
   ]
  },
  {
   "cell_type": "code",
   "execution_count": 60,
   "id": "0344150c",
   "metadata": {},
   "outputs": [
    {
     "data": {
      "text/plain": [
       "12"
      ]
     },
     "execution_count": 60,
     "metadata": {},
     "output_type": "execute_result"
    }
   ],
   "source": [
    "tr1.side1"
   ]
  },
  {
   "cell_type": "code",
   "execution_count": 61,
   "id": "f7a0f2f3",
   "metadata": {},
   "outputs": [
    {
     "data": {
      "text/plain": [
       "13"
      ]
     },
     "execution_count": 61,
     "metadata": {},
     "output_type": "execute_result"
    }
   ],
   "source": [
    "tr1.side2"
   ]
  },
  {
   "cell_type": "code",
   "execution_count": 62,
   "id": "de01efde",
   "metadata": {},
   "outputs": [
    {
     "data": {
      "text/plain": [
       "14"
      ]
     },
     "execution_count": 62,
     "metadata": {},
     "output_type": "execute_result"
    }
   ],
   "source": [
    "tr1.side3"
   ]
  },
  {
   "cell_type": "code",
   "execution_count": 63,
   "id": "1d3b70ae",
   "metadata": {},
   "outputs": [
    {
     "name": "stdout",
     "output_type": "stream",
     "text": [
      "Triangle Sides : 12, 13, 14\n",
      "Does it Form a Triangle : True\n",
      "Perimeter of Triangle : 39\n",
      "Area of Triangle : 72.30793524918272\n",
      "\n",
      "====================================================\n",
      "\n",
      "Triangle Sides : 3, 4, 5\n",
      "Does it Form a Triangle : True\n",
      "Perimeter of Triangle : 12\n",
      "Area of Triangle : 6.0\n",
      "\n",
      "====================================================\n",
      "\n",
      "Triangle Sides : 1, 2, 3\n",
      "Does it Form a Triangle : False\n",
      "The given sides 1, 2 and 3 DO NOT form Triangle\n",
      "Perimeter of Triangle : None\n",
      "The given sides 1, 2 and 3 DO NOT form a Triangle\n",
      "Area of Triangle : None\n",
      "\n",
      "====================================================\n",
      "\n",
      "Triangle Sides : 4, 5, 6\n",
      "Does it Form a Triangle : True\n",
      "Perimeter of Triangle : 15\n",
      "Area of Triangle : 9.921567416492215\n",
      "\n",
      "====================================================\n",
      "\n"
     ]
    }
   ],
   "source": [
    "for i in [tr1, tr2, tr3, tr4]:\n",
    "    print(f'Triangle Sides : {i.side1}, {i.side2}, {i.side3}')\n",
    "    print(f'Does it Form a Triangle : {i.isTriangle()}')\n",
    "    print(f'Perimeter of Triangle : {i.Perimeter()}')\n",
    "    print(f'Area of Triangle : {i.Area()}')\n",
    "    print('\\n====================================================\\n')"
   ]
  },
  {
   "cell_type": "code",
   "execution_count": null,
   "id": "9f849b08",
   "metadata": {},
   "outputs": [],
   "source": []
  }
 ],
 "metadata": {
  "kernelspec": {
   "display_name": "Python 3 (ipykernel)",
   "language": "python",
   "name": "python3"
  },
  "language_info": {
   "codemirror_mode": {
    "name": "ipython",
    "version": 3
   },
   "file_extension": ".py",
   "mimetype": "text/x-python",
   "name": "python",
   "nbconvert_exporter": "python",
   "pygments_lexer": "ipython3",
   "version": "3.11.4"
  }
 },
 "nbformat": 4,
 "nbformat_minor": 5
}
